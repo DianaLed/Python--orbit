{
 "cells": [
  {
   "cell_type": "markdown",
   "metadata": {},
   "source": [
    "1-й закон Кеплера\n",
    "    Планеты Солнечной системы движутся по эллиптическим орбитам. В одном из фокусов такой орбиты находится Солнце.\n",
    "Интерполяция \n",
    "    В вычислительной математике способ нахождения промежуточных значений величины по имеющемуся дискретному набору известных значений.\n",
    "\n",
    "С помощью метода наименьших квадратов я должна была найти коэффициенты для уравнения 𝑧=𝑎𝑥^2+𝑏𝑥𝑦+𝑐𝑦^2+𝑑𝑥+𝑒𝑦+𝑓. Так как это уравнение необходимо для нахождения кривой второго порядка, то z=0 и a=1. Тогда уравнение меняется:\n",
    "  b*x*y + c*y^2 + d*x + e*y + f = -(𝑥^2). \n",
    "О методе наименьших квадратов: (теория)\n",
    "Данный метод используется для нахождения максимально близких графиков по нескольким точкам. Для этого необходимо найти коэффициенты при x и y, и ошибка (в моем случае f). \n",
    "В методе наименьших квадратов есть такое понятие, как ошибка прогноза (оп). Если мы будем из y (фактическое) вычитать y(по прогнозу), то мы получим разницу. Это и есть оп для одной переменной. Что-бы получить оп по всему уравнению необходимо ссумировать все ошибки. Но если мы их не возведдем в квадрат, то они могут компенсировать друг друга (одна ошибка с +, другя с -).Собственно поэтому и необходимо возводить в квадрат.\n",
    "\n",
    "Вернемся к поиску коэффициентов для нашего уравнения:"
   ]
  },
  {
   "cell_type": "code",
   "execution_count": 11,
   "metadata": {},
   "outputs": [
    {
     "name": "stdout",
     "output_type": "stream",
     "text": [
      "0.14364618259889303 xy+ -2.6356254837121007 y^2+ 0.5514469631403579 x+ 3.2229403381058948 y+ -0.4328942702644502 =0\n"
     ]
    },
    {
     "name": "stderr",
     "output_type": "stream",
     "text": [
      "C:\\Users\\diana\\anaconda3\\lib\\site-packages\\ipykernel_launcher.py:30: FutureWarning: `rcond` parameter will change to the default of machine precision times ``max(M, N)`` where M and N are the input matrix dimensions.\n",
      "To use the future default and silence this warning we advise to pass `rcond=None`, to keep using the old, explicitly pass `rcond=-1`.\n"
     ]
    }
   ],
   "source": [
    "from numpy import linalg\n",
    "from numpy import linspace\n",
    "from numpy import meshgrid\n",
    "import numpy as np\n",
    "import matplotlib.pyplot as plt #Для отрисовки\n",
    "from sympy import * #Для символьных имен\n",
    "import math\n",
    "\n",
    "x = np.array([1.02, .95, .87, .77, .67, .56, .44, .30, .16, .01])\n",
    "y = np.array([0.39, .32, .27, .22, .18, .15, .13, .12, .13, .15])\n",
    "\n",
    "b = [i ** 2 for i in x] # Это список, который содержит результаты, \n",
    "                        #которые даны как x ^ 2 из уравнения.\n",
    "\n",
    "def fxn(x, y):  # Это функция, которая решает данное уравнение, \n",
    "                #чтобы найти каждый параметр\n",
    "    my_list = [] #Это основной список\n",
    "    for z in range(len(x)):\n",
    "        w = [0] * 5\n",
    "        w[0] = y[z] ** 2\n",
    "        w[1] = x[z] * y[z]\n",
    "        w[2] = x[z]\n",
    "        w[3] = y[z]\n",
    "        w[4] = 1\n",
    "        my_list.append(w) # Добавляет элемент в конец списка\n",
    "        \n",
    "    return my_list\n",
    "\n",
    "t = linalg.lstsq(fxn(x, y), b) #Решает начальное уравнение\n",
    "print(t[0][1], \"xy+\",t[0][0],\"y^2+\",t[0][2],\"x+\",t[0][3],\"y+\",t[0][4], \"=0\")\n",
    "\n"
   ]
  },
  {
   "cell_type": "markdown",
   "metadata": {},
   "source": [
    "Коэффициенты для уравнения найдены. Теперь нунеобходимо отрисовать функцию."
   ]
  },
  {
   "cell_type": "markdown",
   "metadata": {},
   "source": []
  },
  {
   "cell_type": "code",
   "execution_count": 33,
   "metadata": {},
   "outputs": [
    {
     "name": "stdout",
     "output_type": "stream",
     "text": [
      "(-b*x - d + sqrt(-4*a*c*x - 4*a*e + 4*a*x**2 + b**2*x**2 + 2*b*d*x + d**2))/(2*a)\n"
     ]
    },
    {
     "data": {
      "image/png": "[encoded data removed]",
      "text/plain": [
       "<Figure size 432x288 with 1 Axes>"
      ]
     },
     "metadata": {
      "needs_background": "light"
     },
     "output_type": "display_data"
    }
   ],
   "source": [
    "def yolv(coeffs):\n",
    "    x,y,a,b,c,d,e = symbols('x y a b c d e')\n",
    "    ellipse = a*y**2 + b*x*y + c*x + d*y + e - x**2\n",
    "    y_sols = solve(ellipse, y)\n",
    "    print(y_sols[0])\n",
    "\n",
    "    num_coefs = [(a, f) for a, f in (zip([a,b,c,d,e], coeffs))]\n",
    "    y_solsf0 = y_sols[0].subs(num_coefs)\n",
    "    y_solsf1 = y_sols[1].subs(num_coefs)\n",
    "\n",
    "    f0 = lambdify([x], y_solsf0)\n",
    "    f1 = lambdify([x], y_solsf1)\n",
    "    return f0, f1\n",
    "\n",
    "f0, f1 = yolv(t[0])\n",
    "\n",
    "\n",
    "def computeEllipse(a, b, c, d, e):\n",
    "    \"\"\"\n",
    "    Возвращает массив x-y для координат эллипса.\n",
    "    Уравнение имеет вид a * y ** 2 + b * x * y + c * x + d * y + e = x ** 2\n",
    "    \"\"\"\n",
    "    # Преобразовать координату x ** 2 в +1\n",
    "    a = -a\n",
    "    b = -b\n",
    "    c = -c\n",
    "    d = -d\n",
    "    e = -e\n",
    "    # Rotation angle\n",
    "    theta = 0.5 * math.atan(b / (1 - a))\n",
    "    # Угол поворота\n",
    "    sin = math.sin(theta)\n",
    "    cos = math.cos(theta)\n",
    "    aa = cos**2 + b * sin * cos + a * sin**2\n",
    "    bb = sin**2 - b * cos * sin + a * cos**2\n",
    "    cc = c * cos + d * sin\n",
    "    dd = -c * sin + d * cos\n",
    "    ee = e\n",
    "    # Стандартная форма\n",
    "    axMaj = 1 / math.sqrt(aa)\n",
    "    axMin = 1 / math.sqrt(bb)\n",
    "    scale = math.sqrt(cc**2 / (4 * aa) + dd**2 / (4 * bb) - ee)\n",
    "    h = -cc / (2 * aa)\n",
    "    k = -dd / (2 * bb)\n",
    "    # Параметризованное уравнение\n",
    "    t = np.linspace(0, 2 * math.pi, 1000)\n",
    "    xx = h + axMaj * scale * np.sin(t)\n",
    "    yy = k + axMin * scale * np.cos(t)\n",
    "    # Не повернутые координаты\n",
    "    x = xx * cos - yy * sin\n",
    "    y = xx * sin + yy * cos\n",
    "    return x, y\n",
    "#a * y ** 2 + b * x * y + c * x + d * y + e = x ** 2\n",
    "a = t[0][0]\n",
    "b = t[0][1]\n",
    "c = t[0][2]\n",
    "d = t[0][3]\n",
    "e = t[0][4]\n",
    "lines = plt.plot(*computeEllipse(a, b, c, d, e)) \n",
    "\n",
    "plt.scatter(x, y)\n",
    "plt.show()"
   ]
  },
  {
   "cell_type": "markdown",
   "metadata": {},
   "source": [
    "Добавляем возмущения"
   ]
  },
  {
   "cell_type": "code",
   "execution_count": 83,
   "metadata": {},
   "outputs": [
    {
     "name": "stdout",
     "output_type": "stream",
     "text": [
      "0.35607227176305756 xy+ -2.1586363143320244 y^2+ 0.5098341017944684 x+ 2.7944159457309405 y+ -0.37495487818024187 =0\n"
     ]
    },
    {
     "name": "stderr",
     "output_type": "stream",
     "text": [
      "C:\\Users\\diana\\anaconda3\\lib\\site-packages\\ipykernel_launcher.py:8: FutureWarning: `rcond` parameter will change to the default of machine precision times ``max(M, N)`` where M and N are the input matrix dimensions.\n",
      "To use the future default and silence this warning we advise to pass `rcond=None`, to keep using the old, explicitly pass `rcond=-1`.\n",
      "  \n"
     ]
    },
    {
     "data": {
      "image/png": "[encoded data removed]",
      "text/plain": [
       "<Figure size 432x288 with 1 Axes>"
      ]
     },
     "metadata": {
      "needs_background": "light"
     },
     "output_type": "display_data"
    }
   ],
   "source": [
    "import random\n",
    "xx = np.array([1.02+random.uniform(-0.005,0.005), .95+random.uniform(-0.005,0.005), .87+random.uniform(-0.005,0.005), .77+random.uniform(-0.005,0.005), .67+random.uniform(-0.005,0.005), .56+random.uniform(-0.005,0.005), .44+random.uniform(-0.005,0.005), .30+random.uniform(-0.005,0.005), .16+random.uniform(-0.005,0.005), .01+random.uniform(-0.005,0.005)])\n",
    "yy = np.array([0.39+random.uniform(-0.005,0.005), .32+random.uniform(-0.005,0.005), .27+random.uniform(-0.005,0.005), .22+random.uniform(-0.005,0.005), .18+random.uniform(-0.005,0.005), .15+random.uniform(-0.005,0.005), .13+random.uniform(-0.005,0.005), .12+random.uniform(-0.005,0.005), .13+random.uniform(-0.005,0.005), .15+random.uniform(-0.005,0.005)])\n",
    "\n",
    "bb = [i ** 2 for i in x] # Это список, который содержит результаты, \n",
    "                        #которые даны как x ^ 2 из уравнения.\n",
    "\n",
    "tt = linalg.lstsq(fxn(xx, yy), bb) #Решает начальное уравнение\n",
    "print(tt[0][1], \"xy+\",tt[0][0],\"y^2+\",tt[0][2],\"x+\",tt[0][3],\"y+\",tt[0][4], \"=0\")\n",
    "\n",
    "a = t[0][0]\n",
    "b = t[0][1]\n",
    "c = t[0][2]\n",
    "d = t[0][3]\n",
    "e = t[0][4]\n",
    "\n",
    "lines = plt.plot(*computeEllipse(a, b, c, d, e), color='blue') \n",
    "a = tt[0][0]\n",
    "b = tt[0][1]\n",
    "c = tt[0][2]\n",
    "d = tt[0][3]\n",
    "e = tt[0][4]\n",
    "\n",
    "lines = plt.plot(*computeEllipse(a, b, c, d, e), color='orange', )\n",
    "plt.scatter(x, y, color='red')\n",
    "plt.scatter(xx, yy, color='black')\n",
    "plt.show()"
   ]
  },
  {
   "cell_type": "markdown",
   "metadata": {},
   "source": [
    "При нескольких запусках предыдущего блока можно увидеть совершенно разные результаты. Орбиты могут быть очень близки друг к другу, а могут координально отлтчаться. Давайте посчитаем разницу. "
   ]
  },
  {
   "cell_type": "code",
   "execution_count": 75,
   "metadata": {},
   "outputs": [
    {
     "name": "stdout",
     "output_type": "stream",
     "text": [
      "[-1.41214261  0.52427934 -0.07725171  0.23779215 -0.00923942]\n"
     ]
    }
   ],
   "source": [
    "rasn=np.array([t[0][0]-tt[0][0], t[0][1]-tt[0][1], t[0][2]-tt[0][2], t[0][3]-tt[0][3],t[0][4]-tt[0][4]])\n",
    "print (rasn)"
   ]
  },
  {
   "cell_type": "markdown",
   "metadata": {},
   "source": [
    "При нескольких запусках я смогла сделать вывод:\n",
    "<br/> Если разница 1х коэффициентов близка к +-1 (или больше),  \n",
    "то орбиты имеют очень сильные различия"
   ]
  },
  {
   "cell_type": "markdown",
   "metadata": {},
   "source": [
    "Почему коэффициенты отличаются?  \n",
    "<br/> Дело в том, что хоть разница и не большая, но при расчетах эта разница возводится в квадрат, суммируется результат заносят под корень. В таком случае, какое-то даже небольшое отклонение приведет к другому результату."
   ]
  }
 ],
 "metadata": {
  "kernelspec": {
   "display_name": "Python 3",
   "language": "python",
   "name": "python3"
  },
  "language_info": {
   "codemirror_mode": {
    "name": "ipython",
    "version": 3
   },
   "file_extension": ".py",
   "mimetype": "text/x-python",
   "name": "python",
   "nbconvert_exporter": "python",
   "pygments_lexer": "ipython3",
   "version": "3.7.6"
  }
 },
 "nbformat": 4,
 "nbformat_minor": 4
}
